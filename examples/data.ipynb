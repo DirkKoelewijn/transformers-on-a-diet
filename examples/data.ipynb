{
 "cells": [
  {
   "cell_type": "markdown",
   "source": [
    "# Data parsing\n",
    "This notebook contains examples regarding parsing the XML datasets."
   ],
   "metadata": {
    "collapsed": false
   }
  },
  {
   "cell_type": "markdown",
   "source": [
    "## Set up\n",
    "To use the custom modules defined in `src`, we first make sure that the working directory is the root folder."
   ],
   "metadata": {
    "collapsed": false
   }
  },
  {
   "cell_type": "code",
   "execution_count": null,
   "metadata": {
    "collapsed": true
   },
   "outputs": [],
   "source": [
    "import os\n",
    "\n",
    "root_folder = 'transformers-on-a-diet'\n",
    "while not os.getcwd().endswith(root_folder):\n",
    "    os.chdir('../')"
   ]
  },
  {
   "cell_type": "markdown",
   "source": [
    "## Manual usage\n",
    "You can use the functions of the `data` module manually for most freedom:"
   ],
   "metadata": {
    "collapsed": false
   }
  },
  {
   "cell_type": "code",
   "execution_count": null,
   "outputs": [],
   "source": [
    "import numpy as np\n",
    "\n",
    "from src.data import parse, balance, add_unlabeled, to_dataset\n",
    "\n",
    "# Parse a DataFrame without using validation data\n",
    "df = parse('mams', 'data/mams/train.xml')\n",
    "\n",
    "# Parse a Dataframe using validation data\n",
    "df_train, df_validation = parse('mams', 'data/mams/train.xml', validation_split=0.2)\n",
    "\n",
    "# Quickly balance the training dataset\n",
    "df_balanced = balance(df_train)\n",
    "\n",
    "# Manually set the balancing settings\n",
    "df_balanced = balance(df_train, balance_by='label', balance_method=np.max)\n",
    "\n",
    "# First parse a dataset to use as unlabeled data\n",
    "df_unlabeled = parse('semeval14', 'data/mams/train.xml')\n",
    "\n",
    "# Then add to the dataset\n",
    "df_combined = add_unlabeled(df_balanced, df_unlabeled, unlabeled_ratio=0.5)\n",
    "\n",
    "# Create dataset that can be easily used by Tensorflow\n",
    "x, y = to_dataset(df_combined, ['positive', 'neutral', 'negative', 'none'])"
   ],
   "metadata": {
    "collapsed": false
   }
  },
  {
   "cell_type": "markdown",
   "source": [
    "## Quick usage\n",
    "Or use the `Preprocessor` class to quickly do the work."
   ],
   "metadata": {
    "collapsed": false
   }
  },
  {
   "cell_type": "code",
   "execution_count": null,
   "outputs": [],
   "source": [
    "from src.data import Preprocessor\n",
    "\n",
    "preprocessor = Preprocessor()\n",
    "\n",
    "# To dataframe\n",
    "df_train, df_val = preprocessor.parse_train(\n",
    "    'mams',\n",
    "    'train.xml',\n",
    "    unlabeled_data=[\n",
    "        ('semeval14', 'train.xml')\n",
    "    ],\n",
    "    unlabeled_ratio=0.5,\n",
    "    validation_split=0.2,\n",
    "    create_dataset=False\n",
    ")\n",
    "\n",
    "# To dataset\n",
    "x, y = preprocessor.parse_train(\n",
    "    'mams',\n",
    "    'train.xml',\n",
    "    unlabeled_data=[\n",
    "        ('semeval14', 'train.xml')\n",
    "    ],\n",
    "    unlabeled_ratio=0.5\n",
    ")\n",
    "\n",
    "# Test dataset\n",
    "x, y = preprocessor.parse_test('mams', 'test.xml')"
   ],
   "metadata": {
    "collapsed": false
   }
  }
 ],
 "metadata": {
  "kernelspec": {
   "display_name": "Python 3",
   "language": "python",
   "name": "python3"
  },
  "language_info": {
   "codemirror_mode": {
    "name": "ipython",
    "version": 2
   },
   "file_extension": ".py",
   "mimetype": "text/x-python",
   "name": "python",
   "nbconvert_exporter": "python",
   "pygments_lexer": "ipython2",
   "version": "2.7.6"
  }
 },
 "nbformat": 4,
 "nbformat_minor": 0
}
